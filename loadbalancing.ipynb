{
 "cells": [
  {
   "cell_type": "code",
   "execution_count": 1,
   "id": "b4693fb1-340e-4a3a-9ea3-a18d6a078d21",
   "metadata": {},
   "outputs": [],
   "source": [
    "import random\n",
    "import time"
   ]
  },
  {
   "cell_type": "code",
   "execution_count": 2,
   "id": "3b4cb8f2-e1c7-4261-b651-52124b209f3e",
   "metadata": {},
   "outputs": [],
   "source": [
    "# Simulated server class\n",
    "class Server:\n",
    "    def __init__(self, name):\n",
    "        self.name = name\n",
    "        self.active_connections = 0\n",
    "\n",
    "    def handle_request(self):\n",
    "        self.active_connections += 1\n",
    "        print(f\"Request handled by {self.name} (Active connections: {self.active_connections})\")\n",
    "\n",
    "    def finish_request(self):\n",
    "        if self.active_connections > 0:\n",
    "            self.active_connections -= 1"
   ]
  },
  {
   "cell_type": "code",
   "execution_count": 4,
   "id": "c3c141f9-edd1-46f3-b18b-f632968846a9",
   "metadata": {},
   "outputs": [],
   "source": [
    "# Load Balancer class\n",
    "class LoadBalancer:\n",
    "    def __init__(self, servers, method=\"round_robin\"):\n",
    "        self.servers = servers\n",
    "        self.method = method\n",
    "        self.index = 0  # for round robin\n",
    "\n",
    "    def distribute_request(self):\n",
    "        if self.method == \"round_robin\":\n",
    "            server = self.servers[self.index]\n",
    "            self.index = (self.index + 1) % len(self.servers)\n",
    "        elif self.method == \"least_connections\":\n",
    "            server = min(self.servers, key=lambda s: s.active_connections)\n",
    "\n",
    "        elif self.method == \"random\":\n",
    "            server = random.choice(self.servers)\n",
    "\n",
    "        else:\n",
    "            raise ValueError(\"Unknown load balancing method\")\n",
    "\n",
    "        server.handle_request()\n",
    "        return server\n",
    "\n"
   ]
  },
  {
   "cell_type": "code",
   "execution_count": 5,
   "id": "ffe29373-fc7e-4844-b3e3-510138910f5e",
   "metadata": {},
   "outputs": [],
   "source": [
    "# Simulate client requests\n",
    "def simulate_requests(balancer, total_requests=10):\n",
    "    for i in range(total_requests):\n",
    "        print(f\"\\nClient Request {i + 1}\")\n",
    "        server = balancer.distribute_request()\n",
    "        # Simulate finishing the request after a short delay\n",
    "        time.sleep(0.1)\n",
    "        server.finish_request()"
   ]
  },
  {
   "cell_type": "code",
   "execution_count": 6,
   "id": "74df2b73-d155-45ec-be54-a2cbae4aaa93",
   "metadata": {},
   "outputs": [],
   "source": [
    "# Create servers\n",
    "servers = [Server(f\"Server{i+1}\") for i in range(3)]"
   ]
  },
  {
   "cell_type": "code",
   "execution_count": 8,
   "id": "d42a4b17-6457-48f5-88f4-eb250e5a3940",
   "metadata": {},
   "outputs": [],
   "source": [
    "# Choose a load balancing method: 'round_robin', 'least_connections', 'random'\n",
    "method = \"round_robin\"\n",
    "balancer = LoadBalancer(servers, method)"
   ]
  },
  {
   "cell_type": "code",
   "execution_count": 10,
   "id": "70988f59-57cf-4eb5-8b8d-dede49cb469e",
   "metadata": {},
   "outputs": [
    {
     "name": "stdout",
     "output_type": "stream",
     "text": [
      "\n",
      "Client Request 1\n",
      "Request handled by Server1 (Active connections: 1)\n",
      "\n",
      "Client Request 2\n",
      "Request handled by Server2 (Active connections: 1)\n",
      "\n",
      "Client Request 3\n",
      "Request handled by Server3 (Active connections: 1)\n",
      "\n",
      "Client Request 4\n",
      "Request handled by Server1 (Active connections: 1)\n",
      "\n",
      "Client Request 5\n",
      "Request handled by Server2 (Active connections: 1)\n",
      "\n",
      "Client Request 6\n",
      "Request handled by Server3 (Active connections: 1)\n",
      "\n",
      "Client Request 7\n",
      "Request handled by Server1 (Active connections: 1)\n",
      "\n",
      "Client Request 8\n",
      "Request handled by Server2 (Active connections: 1)\n",
      "\n",
      "Client Request 9\n",
      "Request handled by Server3 (Active connections: 1)\n",
      "\n",
      "Client Request 10\n",
      "Request handled by Server1 (Active connections: 1)\n"
     ]
    }
   ],
   "source": [
    " #Run simulation\n",
    "simulate_requests(balancer, total_requests=10)"
   ]
  },
  {
   "cell_type": "code",
   "execution_count": null,
   "id": "ed2116d3-ac70-4347-b14d-acd59804ff09",
   "metadata": {},
   "outputs": [],
   "source": []
  }
 ],
 "metadata": {
  "kernelspec": {
   "display_name": "Python [conda env:base] *",
   "language": "python",
   "name": "conda-base-py"
  },
  "language_info": {
   "codemirror_mode": {
    "name": "ipython",
    "version": 3
   },
   "file_extension": ".py",
   "mimetype": "text/x-python",
   "name": "python",
   "nbconvert_exporter": "python",
   "pygments_lexer": "ipython3",
   "version": "3.12.7"
  }
 },
 "nbformat": 4,
 "nbformat_minor": 5
}
