{
 "cells": [
  {
   "cell_type": "code",
   "execution_count": 6,
   "id": "d64c717f-6924-4f52-bf39-5a9a596873cd",
   "metadata": {},
   "outputs": [],
   "source": [
    "# Define fuzzy sets\n",
    "A = {'a': 0.5, 'b': 0.7}\n",
    "B = {'a': 0.6, 'b': 0.4}\n"
   ]
  },
  {
   "cell_type": "code",
   "execution_count": 7,
   "id": "146be972-e33d-4461-87bc-0891e6871a92",
   "metadata": {},
   "outputs": [],
   "source": [
    "# Union\n",
    "def union(set1, set2):\n",
    "    result = {}\n",
    "    for key in set(set1) | set(set2):\n",
    "        result[key] = max(set1.get(key, 0), set2.get(key, 0))\n",
    "    return result\n"
   ]
  },
  {
   "cell_type": "code",
   "execution_count": 8,
   "id": "3f9c6a6b-3970-4270-b814-7b8f80220fcd",
   "metadata": {},
   "outputs": [],
   "source": [
    "# Intersection\n",
    "def intersection(set1, set2):\n",
    "    result = {}\n",
    "    for key in set(set1) | set(set2):\n",
    "        result[key] = min(set1.get(key, 0), set2.get(key, 0))\n",
    "    return result"
   ]
  },
  {
   "cell_type": "code",
   "execution_count": 9,
   "id": "3908ad64-ee5c-4edb-a466-118733c26947",
   "metadata": {},
   "outputs": [],
   "source": [
    "# Complement\n",
    "def complement(fuzzy_set):\n",
    "    return {key: 1 - value for key, value in fuzzy_set.items()}"
   ]
  },
  {
   "cell_type": "code",
   "execution_count": 10,
   "id": "6e86084e-87be-49d7-8608-1d7616a464e0",
   "metadata": {},
   "outputs": [],
   "source": [
    "# Difference\n",
    "def difference(set1, set2):\n",
    "    result = {}\n",
    "    for key in set(set1):\n",
    "        result[key] = max(set1.get(key, 0) - set2.get(key, 0), 0)\n",
    "    return result"
   ]
  },
  {
   "cell_type": "code",
   "execution_count": 11,
   "id": "2c6ba04e-2d8c-4d96-819e-c4d31514b4d9",
   "metadata": {},
   "outputs": [],
   "source": [
    "# Cartesian Product (fuzzy relation)\n",
    "def cartesian_product(set1, set2):\n",
    "    result = {}\n",
    "    for x in set1:\n",
    "        for y in set2:\n",
    "            result[(x, y)] = min(set1[x], set2[y])\n",
    "    return result"
   ]
  },
  {
   "cell_type": "code",
   "execution_count": 12,
   "id": "e12db5f8-4503-4fa3-be66-3aa08306283f",
   "metadata": {},
   "outputs": [],
   "source": [
    "# Max-Min Composition\n",
    "def max_min_composition(R1, R2):\n",
    "    result = {}\n",
    "    for a, _ in R1:\n",
    "        for _, c in R2:\n",
    "            min_values = []\n",
    "            for b in set(y for _, y in R1):\n",
    "                min_val = min(R1.get((a, b), 0), R2.get((b, c), 0))\n",
    "                min_values.append(min_val)\n",
    "            result[(a, c)] = max(min_values)\n",
    "    return result"
   ]
  },
  {
   "cell_type": "code",
   "execution_count": 13,
   "id": "47985d75-2cfb-493b-8897-da4ae340d33a",
   "metadata": {},
   "outputs": [],
   "source": [
    "# Display helper\n",
    "def show(title, data):\n",
    "    print(f\"{title}:\")\n",
    "    for k, v in data.items():\n",
    "        print(f\"  {k}: {v:.2f}\")\n",
    "    print()"
   ]
  },
  {
   "cell_type": "code",
   "execution_count": 14,
   "id": "8cf9db70-c79c-40e9-9a18-ae0d775d43ac",
   "metadata": {},
   "outputs": [
    {
     "name": "stdout",
     "output_type": "stream",
     "text": [
      "Union:\n",
      "  a: 0.60\n",
      "  b: 0.70\n",
      "\n",
      "Intersection:\n",
      "  a: 0.50\n",
      "  b: 0.40\n",
      "\n",
      "Complement of A:\n",
      "  a: 0.50\n",
      "  b: 0.30\n",
      "\n",
      "Difference A - B:\n",
      "  a: 0.00\n",
      "  b: 0.30\n",
      "\n"
     ]
    }
   ],
   "source": [
    "# Run operations\n",
    "show(\"Union\", union(A, B))\n",
    "show(\"Intersection\", intersection(A, B))\n",
    "show(\"Complement of A\", complement(A))\n",
    "show(\"Difference A - B\", difference(A, B))\n"
   ]
  },
  {
   "cell_type": "code",
   "execution_count": 15,
   "id": "b9d61426-9021-4501-8d33-86bb7e3ff136",
   "metadata": {},
   "outputs": [],
   "source": [
    "# Relations\n",
    "C = {'x': 0.2, 'y': 0.9}\n",
    "R1 = cartesian_product(A, C)\n",
    "R2 = cartesian_product(C, B)\n"
   ]
  },
  {
   "cell_type": "code",
   "execution_count": 16,
   "id": "0c014a64-85ee-47cc-9dcd-331c6671dac7",
   "metadata": {},
   "outputs": [
    {
     "name": "stdout",
     "output_type": "stream",
     "text": [
      "R1 (A × C):\n",
      "  ('a', 'x'): 0.20\n",
      "  ('a', 'y'): 0.50\n",
      "  ('b', 'x'): 0.20\n",
      "  ('b', 'y'): 0.70\n",
      "\n",
      "R2 (C × B):\n",
      "  ('x', 'a'): 0.20\n",
      "  ('x', 'b'): 0.20\n",
      "  ('y', 'a'): 0.60\n",
      "  ('y', 'b'): 0.40\n",
      "\n"
     ]
    }
   ],
   "source": [
    "show(\"R1 (A × C)\", R1)\n",
    "show(\"R2 (C × B)\", R2)"
   ]
  },
  {
   "cell_type": "code",
   "execution_count": 17,
   "id": "605e9940-b8a4-4e19-9b6c-7a8645d587d0",
   "metadata": {},
   "outputs": [
    {
     "name": "stdout",
     "output_type": "stream",
     "text": [
      "Max-Min Composition (R1 o R2):\n",
      "  ('a', 'a'): 0.50\n",
      "  ('a', 'b'): 0.40\n",
      "  ('b', 'a'): 0.60\n",
      "  ('b', 'b'): 0.40\n",
      "\n"
     ]
    }
   ],
   "source": [
    "# Max-min composition\n",
    "R = max_min_composition(R1, R2)\n",
    "show(\"Max-Min Composition (R1 o R2)\", R)\n"
   ]
  },
  {
   "cell_type": "code",
   "execution_count": null,
   "id": "f73c9bfe-1384-4e64-8825-70cadb99af1f",
   "metadata": {},
   "outputs": [],
   "source": []
  }
 ],
 "metadata": {
  "kernelspec": {
   "display_name": "Python [conda env:base] *",
   "language": "python",
   "name": "conda-base-py"
  },
  "language_info": {
   "codemirror_mode": {
    "name": "ipython",
    "version": 3
   },
   "file_extension": ".py",
   "mimetype": "text/x-python",
   "name": "python",
   "nbconvert_exporter": "python",
   "pygments_lexer": "ipython3",
   "version": "3.12.7"
  }
 },
 "nbformat": 4,
 "nbformat_minor": 5
}
